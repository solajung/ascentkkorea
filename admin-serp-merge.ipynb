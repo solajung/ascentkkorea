{
 "cells": [
  {
   "cell_type": "markdown",
   "id": "3e0d06c4-970e-4dd5-92b4-9f4e5a80b1ae",
   "metadata": {},
   "source": [
    "# 5월 모니터링 1,2,3차 병합"
   ]
  },
  {
   "cell_type": "code",
   "execution_count": 1,
   "id": "a67f95b3-8daa-4863-9075-38a786bbe2c0",
   "metadata": {},
   "outputs": [],
   "source": [
    "import pandas as pd\n",
    "import os\n",
    "import re"
   ]
  },
  {
   "cell_type": "code",
   "execution_count": 2,
   "id": "625298c4-2be9-4ff8-9e6b-4d0ca670c1d3",
   "metadata": {},
   "outputs": [
    {
     "name": "stderr",
     "output_type": "stream",
     "text": [
      "<>:14: SyntaxWarning: invalid escape sequence '\\|'\n",
      "<>:14: SyntaxWarning: invalid escape sequence '\\|'\n",
      "C:\\Users\\어센트코리아\\AppData\\Local\\Temp\\ipykernel_15044\\2406972282.py:14: SyntaxWarning: invalid escape sequence '\\|'\n",
      "  df = df[(((df['result_type'] == 'organic_results') & df['position_url'].str.contains('samsung.com')) & (df['position'] <= 10)) | ((df['result_type'] == 'video_results') & df['title'].str.contains('\\| Samsung'))]\n",
      "C:\\Users\\어센트코리아\\AppData\\Local\\Temp\\ipykernel_15044\\2406972282.py:15: SettingWithCopyWarning: \n",
      "A value is trying to be set on a copy of a slice from a DataFrame.\n",
      "Try using .loc[row_indexer,col_indexer] = value instead\n",
      "\n",
      "See the caveats in the documentation: https://pandas.pydata.org/pandas-docs/stable/user_guide/indexing.html#returning-a-view-versus-a-copy\n",
      "  df['extract_count'] = extract_count\n",
      "C:\\Users\\어센트코리아\\AppData\\Local\\Temp\\ipykernel_15044\\2406972282.py:15: SettingWithCopyWarning: \n",
      "A value is trying to be set on a copy of a slice from a DataFrame.\n",
      "Try using .loc[row_indexer,col_indexer] = value instead\n",
      "\n",
      "See the caveats in the documentation: https://pandas.pydata.org/pandas-docs/stable/user_guide/indexing.html#returning-a-view-versus-a-copy\n",
      "  df['extract_count'] = extract_count\n",
      "C:\\Users\\어센트코리아\\AppData\\Local\\Temp\\ipykernel_15044\\2406972282.py:15: SettingWithCopyWarning: \n",
      "A value is trying to be set on a copy of a slice from a DataFrame.\n",
      "Try using .loc[row_indexer,col_indexer] = value instead\n",
      "\n",
      "See the caveats in the documentation: https://pandas.pydata.org/pandas-docs/stable/user_guide/indexing.html#returning-a-view-versus-a-copy\n",
      "  df['extract_count'] = extract_count\n"
     ]
    }
   ],
   "source": [
    "directory = 'G:/공유 드라이브/ConfidentialProject_MX/03. MX SEO_모니터링/1. Galaxy AI 페이지 모니터링/2023.05 Monitoring/SERP_raw/admin-raw/kr'\n",
    "\n",
    "# 파일 이름에서 '1차', '2차', '3차' 추출하는 함수\n",
    "def extract_phase(file_name):\n",
    "    match = re.search(r'\\((\\d+)차\\)', file_name)\n",
    "    if match:\n",
    "        return match.group(1)\n",
    "    else:\n",
    "        return None\n",
    "\n",
    "\n",
    "def preprocess_data(df):\n",
    "    #df = df[df['position_url'].str.contains('samsung.com')]\n",
    "    df = df[(((df['result_type'] == 'organic_results') & df['position_url'].str.contains('samsung.com')) & (df['position'] <= 10)) | ((df['result_type'] == 'video_results') & df['title'].str.contains('\\| Samsung'))]\n",
    "    df['extract_count'] = extract_count\n",
    "    return df\n",
    "\n",
    "\n",
    "\n",
    "all_merge = pd.DataFrame()\n",
    "\n",
    "for file in os.listdir(directory):\n",
    "    file_path = os.path.join(directory, file)\n",
    "    extract_count = extract_phase(file)\n",
    "\n",
    "    df = pd.read_excel(file_path)\n",
    "    df = preprocess_data(df)\n",
    "    all_merge = pd.concat([all_merge, df])\n",
    "\n",
    "all_merge.to_csv('2024-05-galaxy-ai-merged.csv', index=False, encoding = 'utf-8-sig')\n",
    "       "
   ]
  }
 ],
 "metadata": {
  "kernelspec": {
   "display_name": "Python 3 (ipykernel)",
   "language": "python",
   "name": "python3"
  },
  "language_info": {
   "codemirror_mode": {
    "name": "ipython",
    "version": 3
   },
   "file_extension": ".py",
   "mimetype": "text/x-python",
   "name": "python",
   "nbconvert_exporter": "python",
   "pygments_lexer": "ipython3",
   "version": "3.12.3"
  }
 },
 "nbformat": 4,
 "nbformat_minor": 5
}
