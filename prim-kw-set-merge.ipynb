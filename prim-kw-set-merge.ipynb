{
 "cells": [
  {
   "cell_type": "code",
   "execution_count": null,
   "id": "8e0c61c0-936a-4a5d-9bc0-c24f306c8484",
   "metadata": {},
   "outputs": [],
   "source": [
    "import os\n",
    "from openpyxl import load_workbook\n",
    "\n",
    "def merge_prime_kw_sets(folder_path):\n",
    "    merged_data = []\n",
    "    \n",
    "    for filename in os.listdir(folder_path):\n",
    "        if filename.endswith('.xlsx'):\n",
    "            file_path = os.path.join(folder_path, filename)\n",
    "            wb = load_workbook(file_path, read_only=False, data_only=True)\n",
    "            # Check if the workbook is password protected\n",
    "            if wb.security.lockStructure or wb.security.lockWindows:\n",
    "                print(f\"Skipping '{filename}' because it is password protected.\")\n",
    "                continue\n",
    "\n",
    "            for sheet_name in wb.sheetnames:\n",
    "                if sheet_name.lower() == 'prime_kw_set':\n",
    "                    ws = wb[sheet_name]\n",
    "                    for row in ws.iter_rows(min_row=2, values_only=True):\n",
    "                        merged_data.append(row)\n",
    "                    break\n",
    "            wb.close()\n",
    "\n",
    "    # Create a new workbook to store the merged data\n",
    "    merged_wb = Workbook()\n",
    "    merged_ws = merged_wb.active\n",
    "    \n",
    "    # Write the headers\n",
    "    merged_ws.append([\"Column1\", \"Column2\", \"Column3\"])  # Change headers according to your data\n",
    "    \n",
    "    # Write the merged data\n",
    "    for row in merged_data:\n",
    "        merged_ws.append(row)\n",
    "    \n",
    "    # Save the merged workbook\n",
    "    merged_wb.save(\"merged_prime_kw_sets.xlsx\")\n",
    "\n",
    "# 폴더 경로를 지정하세요\n",
    "folder_path = 'C:/Users/어센트코리아/Desktop/현황판/프라임키워드셋파일'\n",
    "\n",
    "# 함수 호출\n",
    "merge_prime_kw_sets(folder_path)\n"
   ]
  },
  {
   "cell_type": "code",
   "execution_count": 1,
   "id": "38967f62-6b72-4be4-9b2c-612e5f20b010",
   "metadata": {},
   "outputs": [
    {
     "name": "stdout",
     "output_type": "stream",
     "text": [
      "Note: you may need to restart the kernel to use updated packages.\n"
     ]
    },
    {
     "name": "stderr",
     "output_type": "stream",
     "text": [
      "ERROR: Could not find a version that satisfies the requirement openyxl (from versions: none)\n",
      "ERROR: No matching distribution found for openyxl\n"
     ]
    }
   ],
   "source": [
    "pip install openyxl"
   ]
  },
  {
   "cell_type": "code",
   "execution_count": 2,
   "id": "3f8891d5-3395-4a3d-af77-deb66f3b4563",
   "metadata": {},
   "outputs": [
    {
     "data": {
      "text/plain": [
       "['C:/Users/어센트코리아/Desktop/현황판/프라임키워드셋파일\\\\MX_Prime Keywords Set_en_AU.xlsx',\n",
       " 'C:/Users/어센트코리아/Desktop/현황판/프라임키워드셋파일\\\\MX_Prime Keywords Set_en_CA.xlsx',\n",
       " 'C:/Users/어센트코리아/Desktop/현황판/프라임키워드셋파일\\\\MX_Prime Keywords Set_en_Global.xlsx',\n",
       " 'C:/Users/어센트코리아/Desktop/현황판/프라임키워드셋파일\\\\MX_Prime Keywords Set_en_IN.xlsx',\n",
       " 'C:/Users/어센트코리아/Desktop/현황판/프라임키워드셋파일\\\\MX_Prime Keywords Set_en_SG.xlsx',\n",
       " 'C:/Users/어센트코리아/Desktop/현황판/프라임키워드셋파일\\\\MX_Prime Keywords Set_en_UK.xlsx',\n",
       " 'C:/Users/어센트코리아/Desktop/현황판/프라임키워드셋파일\\\\MX_Prime Keywords Set_en_US.xlsx']"
      ]
     },
     "execution_count": 2,
     "metadata": {},
     "output_type": "execute_result"
    }
   ],
   "source": [
    "import glob\n",
    "\n",
    "file_list = glob.glob(\"C:/Users/어센트코리아/Desktop/현황판/프라임키워드셋파일/*.xlsx\")\n",
    "file_list"
   ]
  },
  {
   "cell_type": "code",
   "execution_count": 4,
   "id": "d7dce229-176a-4564-8a6d-08a5fe2fb508",
   "metadata": {},
   "outputs": [
    {
     "name": "stdout",
     "output_type": "stream",
     "text": [
      "Collecting openpyxl\n",
      "  Downloading openpyxl-3.1.2-py2.py3-none-any.whl.metadata (2.5 kB)\n",
      "Collecting et-xmlfile (from openpyxl)\n",
      "  Downloading et_xmlfile-1.1.0-py3-none-any.whl.metadata (1.8 kB)\n",
      "Downloading openpyxl-3.1.2-py2.py3-none-any.whl (249 kB)\n",
      "   ---------------------------------------- 0.0/250.0 kB ? eta -:--:--\n",
      "   - -------------------------------------- 10.2/250.0 kB ? eta -:--:--\n",
      "   ---------------------------------------  245.8/250.0 kB 3.8 MB/s eta 0:00:01\n",
      "   ---------------------------------------- 250.0/250.0 kB 3.1 MB/s eta 0:00:00\n",
      "Downloading et_xmlfile-1.1.0-py3-none-any.whl (4.7 kB)\n",
      "Installing collected packages: et-xmlfile, openpyxl\n",
      "Successfully installed et-xmlfile-1.1.0 openpyxl-3.1.2\n",
      "Note: you may need to restart the kernel to use updated packages.\n"
     ]
    }
   ],
   "source": [
    "pip install openpyxl"
   ]
  },
  {
   "cell_type": "code",
   "execution_count": 7,
   "id": "73cd8851-f33e-480f-8f74-da09d174fc4a",
   "metadata": {},
   "outputs": [
    {
     "name": "stdout",
     "output_type": "stream",
     "text": [
      "Error loading file 'C:/Users/어센트코리아/Desktop/현황판/프라임키워드셋파일\\MX_Prime Keywords Set_en_AU.xlsx': File is not a zip file\n",
      "Error loading file 'C:/Users/어센트코리아/Desktop/현황판/프라임키워드셋파일\\MX_Prime Keywords Set_en_CA.xlsx': File is not a zip file\n",
      "Error loading file 'C:/Users/어센트코리아/Desktop/현황판/프라임키워드셋파일\\MX_Prime Keywords Set_en_Global.xlsx': File is not a zip file\n",
      "Error loading file 'C:/Users/어센트코리아/Desktop/현황판/프라임키워드셋파일\\MX_Prime Keywords Set_en_IN.xlsx': File is not a zip file\n",
      "Error loading file 'C:/Users/어센트코리아/Desktop/현황판/프라임키워드셋파일\\MX_Prime Keywords Set_en_SG.xlsx': File is not a zip file\n",
      "Error loading file 'C:/Users/어센트코리아/Desktop/현황판/프라임키워드셋파일\\MX_Prime Keywords Set_en_UK.xlsx': File is not a zip file\n",
      "Error loading file 'C:/Users/어센트코리아/Desktop/현황판/프라임키워드셋파일\\MX_Prime Keywords Set_en_US.xlsx': File is not a zip file\n"
     ]
    }
   ],
   "source": [
    "import os\n",
    "from openpyxl import load_workbook\n",
    "\n",
    "def print_prime_kw_sets_from_b9(folder_path, password):\n",
    "    # 폴더 내의 모든 파일 목록 가져오기\n",
    "    files = os.listdir(folder_path)\n",
    "    \n",
    "    for file_name in files:\n",
    "        file_path = os.path.join(folder_path, file_name)\n",
    "        # 엑셀 파일인지 확인\n",
    "        if file_name.endswith('.xlsx'):\n",
    "            # 엑셀 파일 불러오기\n",
    "            try:\n",
    "                wb = load_workbook(file_path, read_only=False, data_only=True, keep_vba=False)\n",
    "            except Exception as e:\n",
    "                print(f\"Error loading file '{file_path}': {e}\")\n",
    "                continue\n",
    "            \n",
    "            # 비밀번호로 엑셀 파일 해제하기\n",
    "            try:\n",
    "                wb.security.set_password(password)\n",
    "            except Exception as e:\n",
    "                print(f\"Error unlocking file '{file_path}': {e}\")\n",
    "                wb.close()\n",
    "                continue\n",
    "            \n",
    "            # 'prime_kw_set' 시트의 데이터 출력\n",
    "            for sheet_name in wb.sheetnames:\n",
    "                if sheet_name.lower() == 'prime_kw_set':\n",
    "                    ws = wb[sheet_name]\n",
    "                    print(f\"Data from '{file_path}', Sheet: '{sheet_name}':\")\n",
    "                    for row in ws.iter_rows(min_row=9, values_only=True):\n",
    "                        print(row)\n",
    "                    break\n",
    "            \n",
    "            wb.close()\n",
    "\n",
    "# 폴더 경로를 지정하세요\n",
    "folder_path = 'C:/Users/어센트코리아/Desktop/현황판/프라임키워드셋파일'\n",
    "\n",
    "# 엑셀 파일 비밀번호\n",
    "password = 'B6Q62024!'\n",
    "\n",
    "# 함수 호출\n",
    "print_prime_kw_sets_from_b9(folder_path, password)\n",
    "\n"
   ]
  },
  {
   "cell_type": "code",
   "execution_count": 3,
   "id": "2f297fe4-a53d-4bb8-b21a-7e70627a7899",
   "metadata": {},
   "outputs": [
    {
     "ename": "com_error",
     "evalue": "(-2147352567, '예외가 발생했습니다.', (0, None, None, None, 0, -2147352565), None)",
     "output_type": "error",
     "traceback": [
      "\u001b[1;31m---------------------------------------------------------------------------\u001b[0m",
      "\u001b[1;31mcom_error\u001b[0m                                 Traceback (most recent call last)",
      "\u001b[1;32m~\\AppData\\Local\\Temp\\ipykernel_11232\\2167835919.py\u001b[0m in \u001b[0;36m?\u001b[1;34m()\u001b[0m\n\u001b[0;32m      5\u001b[0m \u001b[1;33m\u001b[0m\u001b[0m\n\u001b[0;32m      6\u001b[0m \u001b[0mapp\u001b[0m \u001b[1;33m=\u001b[0m \u001b[0mxw\u001b[0m\u001b[1;33m.\u001b[0m\u001b[0mApp\u001b[0m\u001b[1;33m(\u001b[0m\u001b[0mvisible\u001b[0m\u001b[1;33m=\u001b[0m\u001b[1;32mFalse\u001b[0m\u001b[1;33m)\u001b[0m\u001b[1;33m\u001b[0m\u001b[1;33m\u001b[0m\u001b[0m\n\u001b[0;32m      7\u001b[0m \u001b[1;33m\u001b[0m\u001b[0m\n\u001b[0;32m      8\u001b[0m \u001b[0mwb\u001b[0m \u001b[1;33m=\u001b[0m \u001b[0mxw\u001b[0m\u001b[1;33m.\u001b[0m\u001b[0mBook\u001b[0m\u001b[1;33m(\u001b[0m\u001b[0mexcel_file_path\u001b[0m\u001b[1;33m,\u001b[0m \u001b[0mpassword\u001b[0m\u001b[1;33m=\u001b[0m\u001b[0mpassword\u001b[0m\u001b[1;33m)\u001b[0m\u001b[1;33m\u001b[0m\u001b[1;33m\u001b[0m\u001b[0m\n\u001b[1;32m----> 9\u001b[1;33m \u001b[0msheet\u001b[0m \u001b[1;33m=\u001b[0m \u001b[0mwb\u001b[0m\u001b[1;33m.\u001b[0m\u001b[0msheets\u001b[0m\u001b[1;33m[\u001b[0m\u001b[1;34m'prime-kws-set'\u001b[0m\u001b[1;33m]\u001b[0m\u001b[1;33m\u001b[0m\u001b[1;33m\u001b[0m\u001b[0m\n\u001b[0m\u001b[0;32m     10\u001b[0m \u001b[0msheet\u001b[0m\u001b[1;33m\u001b[0m\u001b[1;33m\u001b[0m\u001b[0m\n",
      "\u001b[1;32m~\\AppData\\Local\\Programs\\Python\\Python312\\Lib\\site-packages\\xlwings\\main.py\u001b[0m in \u001b[0;36m?\u001b[1;34m(self, key)\u001b[0m\n\u001b[0;32m     84\u001b[0m             raise ValueError(\n\u001b[0;32m     85\u001b[0m                 \u001b[0mself\u001b[0m\u001b[1;33m.\u001b[0m\u001b[0mimpl\u001b[0m\u001b[1;33m.\u001b[0m\u001b[0m__class__\u001b[0m\u001b[1;33m.\u001b[0m\u001b[0m__name__\u001b[0m \u001b[1;33m+\u001b[0m \u001b[1;34m\" object does not support slicing\"\u001b[0m\u001b[1;33m\u001b[0m\u001b[1;33m\u001b[0m\u001b[0m\n\u001b[0;32m     86\u001b[0m             \u001b[1;33m)\u001b[0m\u001b[1;33m\u001b[0m\u001b[1;33m\u001b[0m\u001b[0m\n\u001b[0;32m     87\u001b[0m         \u001b[1;32melse\u001b[0m\u001b[1;33m:\u001b[0m\u001b[1;33m\u001b[0m\u001b[1;33m\u001b[0m\u001b[0m\n\u001b[1;32m---> 88\u001b[1;33m             \u001b[1;32mreturn\u001b[0m \u001b[0mself\u001b[0m\u001b[1;33m(\u001b[0m\u001b[0mkey\u001b[0m\u001b[1;33m)\u001b[0m\u001b[1;33m\u001b[0m\u001b[1;33m\u001b[0m\u001b[0m\n\u001b[0m",
      "\u001b[1;32m~\\AppData\\Local\\Programs\\Python\\Python312\\Lib\\site-packages\\xlwings\\main.py\u001b[0m in \u001b[0;36m?\u001b[1;34m(self, name_or_index)\u001b[0m\n\u001b[0;32m   5106\u001b[0m     \u001b[1;32mdef\u001b[0m \u001b[0m__call__\u001b[0m\u001b[1;33m(\u001b[0m\u001b[0mself\u001b[0m\u001b[1;33m,\u001b[0m \u001b[0mname_or_index\u001b[0m\u001b[1;33m)\u001b[0m\u001b[1;33m:\u001b[0m\u001b[1;33m\u001b[0m\u001b[1;33m\u001b[0m\u001b[0m\n\u001b[0;32m   5107\u001b[0m         \u001b[1;32mif\u001b[0m \u001b[0misinstance\u001b[0m\u001b[1;33m(\u001b[0m\u001b[0mname_or_index\u001b[0m\u001b[1;33m,\u001b[0m \u001b[0mSheet\u001b[0m\u001b[1;33m)\u001b[0m\u001b[1;33m:\u001b[0m\u001b[1;33m\u001b[0m\u001b[1;33m\u001b[0m\u001b[0m\n\u001b[0;32m   5108\u001b[0m             \u001b[1;32mreturn\u001b[0m \u001b[0mname_or_index\u001b[0m\u001b[1;33m\u001b[0m\u001b[1;33m\u001b[0m\u001b[0m\n\u001b[0;32m   5109\u001b[0m         \u001b[1;32melse\u001b[0m\u001b[1;33m:\u001b[0m\u001b[1;33m\u001b[0m\u001b[1;33m\u001b[0m\u001b[0m\n\u001b[1;32m-> 5110\u001b[1;33m             \u001b[1;32mreturn\u001b[0m \u001b[0mSheet\u001b[0m\u001b[1;33m(\u001b[0m\u001b[0mimpl\u001b[0m\u001b[1;33m=\u001b[0m\u001b[0mself\u001b[0m\u001b[1;33m.\u001b[0m\u001b[0mimpl\u001b[0m\u001b[1;33m(\u001b[0m\u001b[0mname_or_index\u001b[0m\u001b[1;33m)\u001b[0m\u001b[1;33m)\u001b[0m\u001b[1;33m\u001b[0m\u001b[1;33m\u001b[0m\u001b[0m\n\u001b[0m",
      "\u001b[1;32m~\\AppData\\Local\\Programs\\Python\\Python312\\Lib\\site-packages\\xlwings\\_xlwindows.py\u001b[0m in \u001b[0;36m?\u001b[1;34m(self, name_or_index)\u001b[0m\n\u001b[0;32m    942\u001b[0m     \u001b[1;32mdef\u001b[0m \u001b[0m__call__\u001b[0m\u001b[1;33m(\u001b[0m\u001b[0mself\u001b[0m\u001b[1;33m,\u001b[0m \u001b[0mname_or_index\u001b[0m\u001b[1;33m)\u001b[0m\u001b[1;33m:\u001b[0m\u001b[1;33m\u001b[0m\u001b[1;33m\u001b[0m\u001b[0m\n\u001b[1;32m--> 943\u001b[1;33m         \u001b[1;32mreturn\u001b[0m \u001b[0mSheet\u001b[0m\u001b[1;33m(\u001b[0m\u001b[0mxl\u001b[0m\u001b[1;33m=\u001b[0m\u001b[0mself\u001b[0m\u001b[1;33m.\u001b[0m\u001b[0mxl\u001b[0m\u001b[1;33m(\u001b[0m\u001b[0mname_or_index\u001b[0m\u001b[1;33m)\u001b[0m\u001b[1;33m)\u001b[0m\u001b[1;33m\u001b[0m\u001b[1;33m\u001b[0m\u001b[0m\n\u001b[0m",
      "\u001b[1;32m~\\AppData\\Local\\Programs\\Python\\Python312\\Lib\\site-packages\\xlwings\\_xlwindows.py\u001b[0m in \u001b[0;36m?\u001b[1;34m(self, *args, **kwargs)\u001b[0m\n\u001b[0;32m    246\u001b[0m                 \u001b[1;33m)\u001b[0m \u001b[1;32mand\u001b[0m \u001b[0me\u001b[0m\u001b[1;33m.\u001b[0m\u001b[0mhresult\u001b[0m \u001b[1;33m==\u001b[0m \u001b[1;33m-\u001b[0m\u001b[1;36m2147418111\u001b[0m\u001b[1;33m:\u001b[0m\u001b[1;33m\u001b[0m\u001b[1;33m\u001b[0m\u001b[0m\n\u001b[0;32m    247\u001b[0m                     \u001b[0mn_attempt\u001b[0m \u001b[1;33m+=\u001b[0m \u001b[1;36m1\u001b[0m\u001b[1;33m\u001b[0m\u001b[1;33m\u001b[0m\u001b[0m\n\u001b[0;32m    248\u001b[0m                     \u001b[1;32mcontinue\u001b[0m\u001b[1;33m\u001b[0m\u001b[1;33m\u001b[0m\u001b[0m\n\u001b[0;32m    249\u001b[0m                 \u001b[1;32melse\u001b[0m\u001b[1;33m:\u001b[0m\u001b[1;33m\u001b[0m\u001b[1;33m\u001b[0m\u001b[0m\n\u001b[1;32m--> 250\u001b[1;33m                     \u001b[1;32mraise\u001b[0m\u001b[1;33m\u001b[0m\u001b[1;33m\u001b[0m\u001b[0m\n\u001b[0m\u001b[0;32m    251\u001b[0m             \u001b[1;32mexcept\u001b[0m \u001b[0mAttributeError\u001b[0m\u001b[1;33m:\u001b[0m\u001b[1;33m\u001b[0m\u001b[1;33m\u001b[0m\u001b[0m\n\u001b[0;32m    252\u001b[0m                 \u001b[1;32mif\u001b[0m \u001b[1;32mnot\u001b[0m \u001b[0mN_COM_ATTEMPTS\u001b[0m \u001b[1;32mor\u001b[0m \u001b[0mn_attempt\u001b[0m \u001b[1;33m<\u001b[0m \u001b[0mN_COM_ATTEMPTS\u001b[0m\u001b[1;33m:\u001b[0m\u001b[1;33m\u001b[0m\u001b[1;33m\u001b[0m\u001b[0m\n\u001b[0;32m    253\u001b[0m                     \u001b[0mn_attempt\u001b[0m \u001b[1;33m+=\u001b[0m \u001b[1;36m1\u001b[0m\u001b[1;33m\u001b[0m\u001b[1;33m\u001b[0m\u001b[0m\n",
      "\u001b[1;32mC:\\Users\\어센트~1\\AppData\\Local\\Temp\\gen_py\\3.12\\00020813-0000-0000-C000-000000000046x0x1x9.py\u001b[0m in \u001b[0;36m?\u001b[1;34m(self, Index)\u001b[0m\n\u001b[0;32m  36647\u001b[0m         \u001b[1;32mdef\u001b[0m \u001b[0m__call__\u001b[0m\u001b[1;33m(\u001b[0m\u001b[0mself\u001b[0m\u001b[1;33m,\u001b[0m \u001b[0mIndex\u001b[0m\u001b[1;33m=\u001b[0m\u001b[0mdefaultNamedNotOptArg\u001b[0m\u001b[1;33m)\u001b[0m\u001b[1;33m:\u001b[0m\u001b[1;33m\u001b[0m\u001b[1;33m\u001b[0m\u001b[0m\n\u001b[1;32m> 36648\u001b[1;33m \t\tret = self._oleobj_.InvokeTypes(0, LCID, 2, (9, 0), ((12, 1),),Index\n\u001b[0m\u001b[0;32m  36649\u001b[0m                         \u001b[1;33m)\u001b[0m\u001b[1;33m\u001b[0m\u001b[1;33m\u001b[0m\u001b[0m\n\u001b[0;32m  36650\u001b[0m                 \u001b[1;32mif\u001b[0m \u001b[0mret\u001b[0m \u001b[1;32mis\u001b[0m \u001b[1;32mnot\u001b[0m \u001b[1;32mNone\u001b[0m\u001b[1;33m:\u001b[0m\u001b[1;33m\u001b[0m\u001b[1;33m\u001b[0m\u001b[0m\n\u001b[0;32m  36651\u001b[0m                         \u001b[0mret\u001b[0m \u001b[1;33m=\u001b[0m \u001b[0mDispatch\u001b[0m\u001b[1;33m(\u001b[0m\u001b[0mret\u001b[0m\u001b[1;33m,\u001b[0m \u001b[1;34m'__call__'\u001b[0m\u001b[1;33m,\u001b[0m \u001b[1;32mNone\u001b[0m\u001b[1;33m)\u001b[0m\u001b[1;33m\u001b[0m\u001b[1;33m\u001b[0m\u001b[0m\n",
      "\u001b[1;31mcom_error\u001b[0m: (-2147352567, '예외가 발생했습니다.', (0, None, None, None, 0, -2147352565), None)"
     ]
    }
   ],
   "source": [
    "import xlwings as xw\n",
    "\n",
    "# 비밀번호 설정\n",
    "password = 'B6Q62024!'\n",
    "\n",
    "# 엑셀 파일 경로\n",
    "excel_file_path = 'C:/Users/어센트코리아/Desktop/현황판/프라임키워드셋파일/MX_Prime Keywords Set_en_CA.xlsx'\n",
    "\n",
    "# 엑셀 앱 열기\n",
    "app = xw.App(visible=False)  # 엑셀 앱을 숨기려면 visible=False로 설정\n",
    "\n",
    "# 비밀번호가 설정된 엑셀 파일 열기\n",
    "wb = xw.Book(excel_file_path, password=password)\n",
    "\n",
    "try:\n",
    "    # 'prime-kw-set' 시트 선택\n",
    "    sheet = wb.sheets['prime-kw-set']\n",
    "    \n",
    "    # 시트 데이터 가져오기\n",
    "    data = sheet.used_range.value\n",
    "    \n",
    "    # 데이터 출력\n",
    "    print(data)\n",
    "    \n",
    "finally:\n",
    "    # 엑셀 앱과 워크북 닫기\n",
    "    wb.close()\n",
    "    app.quit()\n"
   ]
  },
  {
   "cell_type": "code",
   "execution_count": 5,
   "id": "bdde21d0-cdb0-4bf4-b4ec-08903c5ea37d",
   "metadata": {},
   "outputs": [
    {
     "ename": "com_error",
     "evalue": "(-2147352567, '예외가 발생했습니다.', (0, None, None, None, 0, -2147352565), None)",
     "output_type": "error",
     "traceback": [
      "\u001b[1;31m---------------------------------------------------------------------------\u001b[0m",
      "\u001b[1;31mcom_error\u001b[0m                                 Traceback (most recent call last)",
      "\u001b[1;32m~\\AppData\\Local\\Temp\\ipykernel_11232\\567427232.py\u001b[0m in \u001b[0;36m?\u001b[1;34m()\u001b[0m\n\u001b[0;32m     24\u001b[0m \u001b[1;33m\u001b[0m\u001b[0m\n\u001b[0;32m     25\u001b[0m \u001b[1;32mfinally\u001b[0m\u001b[1;33m:\u001b[0m\u001b[1;33m\u001b[0m\u001b[1;33m\u001b[0m\u001b[0m\n\u001b[0;32m     26\u001b[0m     \u001b[1;31m# 엑셀 앱과 워크북 닫기\u001b[0m\u001b[1;33m\u001b[0m\u001b[1;33m\u001b[0m\u001b[0m\n\u001b[0;32m     27\u001b[0m     \u001b[0mwb\u001b[0m\u001b[1;33m.\u001b[0m\u001b[0mclose\u001b[0m\u001b[1;33m(\u001b[0m\u001b[1;33m)\u001b[0m\u001b[1;33m\u001b[0m\u001b[1;33m\u001b[0m\u001b[0m\n\u001b[1;32m---> 28\u001b[1;33m     \u001b[0mapp\u001b[0m\u001b[1;33m.\u001b[0m\u001b[0mquit\u001b[0m\u001b[1;33m(\u001b[0m\u001b[1;33m)\u001b[0m\u001b[1;33m\u001b[0m\u001b[1;33m\u001b[0m\u001b[0m\n\u001b[0m",
      "\u001b[1;32m~\\AppData\\Local\\Programs\\Python\\Python312\\Lib\\site-packages\\xlwings\\main.py\u001b[0m in \u001b[0;36m?\u001b[1;34m(self, key)\u001b[0m\n\u001b[0;32m     84\u001b[0m             raise ValueError(\n\u001b[0;32m     85\u001b[0m                 \u001b[0mself\u001b[0m\u001b[1;33m.\u001b[0m\u001b[0mimpl\u001b[0m\u001b[1;33m.\u001b[0m\u001b[0m__class__\u001b[0m\u001b[1;33m.\u001b[0m\u001b[0m__name__\u001b[0m \u001b[1;33m+\u001b[0m \u001b[1;34m\" object does not support slicing\"\u001b[0m\u001b[1;33m\u001b[0m\u001b[1;33m\u001b[0m\u001b[0m\n\u001b[0;32m     86\u001b[0m             \u001b[1;33m)\u001b[0m\u001b[1;33m\u001b[0m\u001b[1;33m\u001b[0m\u001b[0m\n\u001b[0;32m     87\u001b[0m         \u001b[1;32melse\u001b[0m\u001b[1;33m:\u001b[0m\u001b[1;33m\u001b[0m\u001b[1;33m\u001b[0m\u001b[0m\n\u001b[1;32m---> 88\u001b[1;33m             \u001b[1;32mreturn\u001b[0m \u001b[0mself\u001b[0m\u001b[1;33m(\u001b[0m\u001b[0mkey\u001b[0m\u001b[1;33m)\u001b[0m\u001b[1;33m\u001b[0m\u001b[1;33m\u001b[0m\u001b[0m\n\u001b[0m",
      "\u001b[1;32m~\\AppData\\Local\\Programs\\Python\\Python312\\Lib\\site-packages\\xlwings\\main.py\u001b[0m in \u001b[0;36m?\u001b[1;34m(self, name_or_index)\u001b[0m\n\u001b[0;32m   5106\u001b[0m     \u001b[1;32mdef\u001b[0m \u001b[0m__call__\u001b[0m\u001b[1;33m(\u001b[0m\u001b[0mself\u001b[0m\u001b[1;33m,\u001b[0m \u001b[0mname_or_index\u001b[0m\u001b[1;33m)\u001b[0m\u001b[1;33m:\u001b[0m\u001b[1;33m\u001b[0m\u001b[1;33m\u001b[0m\u001b[0m\n\u001b[0;32m   5107\u001b[0m         \u001b[1;32mif\u001b[0m \u001b[0misinstance\u001b[0m\u001b[1;33m(\u001b[0m\u001b[0mname_or_index\u001b[0m\u001b[1;33m,\u001b[0m \u001b[0mSheet\u001b[0m\u001b[1;33m)\u001b[0m\u001b[1;33m:\u001b[0m\u001b[1;33m\u001b[0m\u001b[1;33m\u001b[0m\u001b[0m\n\u001b[0;32m   5108\u001b[0m             \u001b[1;32mreturn\u001b[0m \u001b[0mname_or_index\u001b[0m\u001b[1;33m\u001b[0m\u001b[1;33m\u001b[0m\u001b[0m\n\u001b[0;32m   5109\u001b[0m         \u001b[1;32melse\u001b[0m\u001b[1;33m:\u001b[0m\u001b[1;33m\u001b[0m\u001b[1;33m\u001b[0m\u001b[0m\n\u001b[1;32m-> 5110\u001b[1;33m             \u001b[1;32mreturn\u001b[0m \u001b[0mSheet\u001b[0m\u001b[1;33m(\u001b[0m\u001b[0mimpl\u001b[0m\u001b[1;33m=\u001b[0m\u001b[0mself\u001b[0m\u001b[1;33m.\u001b[0m\u001b[0mimpl\u001b[0m\u001b[1;33m(\u001b[0m\u001b[0mname_or_index\u001b[0m\u001b[1;33m)\u001b[0m\u001b[1;33m)\u001b[0m\u001b[1;33m\u001b[0m\u001b[1;33m\u001b[0m\u001b[0m\n\u001b[0m",
      "\u001b[1;32m~\\AppData\\Local\\Programs\\Python\\Python312\\Lib\\site-packages\\xlwings\\_xlwindows.py\u001b[0m in \u001b[0;36m?\u001b[1;34m(self, name_or_index)\u001b[0m\n\u001b[0;32m    942\u001b[0m     \u001b[1;32mdef\u001b[0m \u001b[0m__call__\u001b[0m\u001b[1;33m(\u001b[0m\u001b[0mself\u001b[0m\u001b[1;33m,\u001b[0m \u001b[0mname_or_index\u001b[0m\u001b[1;33m)\u001b[0m\u001b[1;33m:\u001b[0m\u001b[1;33m\u001b[0m\u001b[1;33m\u001b[0m\u001b[0m\n\u001b[1;32m--> 943\u001b[1;33m         \u001b[1;32mreturn\u001b[0m \u001b[0mSheet\u001b[0m\u001b[1;33m(\u001b[0m\u001b[0mxl\u001b[0m\u001b[1;33m=\u001b[0m\u001b[0mself\u001b[0m\u001b[1;33m.\u001b[0m\u001b[0mxl\u001b[0m\u001b[1;33m(\u001b[0m\u001b[0mname_or_index\u001b[0m\u001b[1;33m)\u001b[0m\u001b[1;33m)\u001b[0m\u001b[1;33m\u001b[0m\u001b[1;33m\u001b[0m\u001b[0m\n\u001b[0m",
      "\u001b[1;32m~\\AppData\\Local\\Programs\\Python\\Python312\\Lib\\site-packages\\xlwings\\_xlwindows.py\u001b[0m in \u001b[0;36m?\u001b[1;34m(self, *args, **kwargs)\u001b[0m\n\u001b[0;32m    246\u001b[0m                 \u001b[1;33m)\u001b[0m \u001b[1;32mand\u001b[0m \u001b[0me\u001b[0m\u001b[1;33m.\u001b[0m\u001b[0mhresult\u001b[0m \u001b[1;33m==\u001b[0m \u001b[1;33m-\u001b[0m\u001b[1;36m2147418111\u001b[0m\u001b[1;33m:\u001b[0m\u001b[1;33m\u001b[0m\u001b[1;33m\u001b[0m\u001b[0m\n\u001b[0;32m    247\u001b[0m                     \u001b[0mn_attempt\u001b[0m \u001b[1;33m+=\u001b[0m \u001b[1;36m1\u001b[0m\u001b[1;33m\u001b[0m\u001b[1;33m\u001b[0m\u001b[0m\n\u001b[0;32m    248\u001b[0m                     \u001b[1;32mcontinue\u001b[0m\u001b[1;33m\u001b[0m\u001b[1;33m\u001b[0m\u001b[0m\n\u001b[0;32m    249\u001b[0m                 \u001b[1;32melse\u001b[0m\u001b[1;33m:\u001b[0m\u001b[1;33m\u001b[0m\u001b[1;33m\u001b[0m\u001b[0m\n\u001b[1;32m--> 250\u001b[1;33m                     \u001b[1;32mraise\u001b[0m\u001b[1;33m\u001b[0m\u001b[1;33m\u001b[0m\u001b[0m\n\u001b[0m\u001b[0;32m    251\u001b[0m             \u001b[1;32mexcept\u001b[0m \u001b[0mAttributeError\u001b[0m\u001b[1;33m:\u001b[0m\u001b[1;33m\u001b[0m\u001b[1;33m\u001b[0m\u001b[0m\n\u001b[0;32m    252\u001b[0m                 \u001b[1;32mif\u001b[0m \u001b[1;32mnot\u001b[0m \u001b[0mN_COM_ATTEMPTS\u001b[0m \u001b[1;32mor\u001b[0m \u001b[0mn_attempt\u001b[0m \u001b[1;33m<\u001b[0m \u001b[0mN_COM_ATTEMPTS\u001b[0m\u001b[1;33m:\u001b[0m\u001b[1;33m\u001b[0m\u001b[1;33m\u001b[0m\u001b[0m\n\u001b[0;32m    253\u001b[0m                     \u001b[0mn_attempt\u001b[0m \u001b[1;33m+=\u001b[0m \u001b[1;36m1\u001b[0m\u001b[1;33m\u001b[0m\u001b[1;33m\u001b[0m\u001b[0m\n",
      "\u001b[1;32mC:\\Users\\어센트~1\\AppData\\Local\\Temp\\gen_py\\3.12\\00020813-0000-0000-C000-000000000046x0x1x9.py\u001b[0m in \u001b[0;36m?\u001b[1;34m(self, Index)\u001b[0m\n\u001b[0;32m  36647\u001b[0m         \u001b[1;32mdef\u001b[0m \u001b[0m__call__\u001b[0m\u001b[1;33m(\u001b[0m\u001b[0mself\u001b[0m\u001b[1;33m,\u001b[0m \u001b[0mIndex\u001b[0m\u001b[1;33m=\u001b[0m\u001b[0mdefaultNamedNotOptArg\u001b[0m\u001b[1;33m)\u001b[0m\u001b[1;33m:\u001b[0m\u001b[1;33m\u001b[0m\u001b[1;33m\u001b[0m\u001b[0m\n\u001b[1;32m> 36648\u001b[1;33m \t\tret = self._oleobj_.InvokeTypes(0, LCID, 2, (9, 0), ((12, 1),),Index\n\u001b[0m\u001b[0;32m  36649\u001b[0m                         \u001b[1;33m)\u001b[0m\u001b[1;33m\u001b[0m\u001b[1;33m\u001b[0m\u001b[0m\n\u001b[0;32m  36650\u001b[0m                 \u001b[1;32mif\u001b[0m \u001b[0mret\u001b[0m \u001b[1;32mis\u001b[0m \u001b[1;32mnot\u001b[0m \u001b[1;32mNone\u001b[0m\u001b[1;33m:\u001b[0m\u001b[1;33m\u001b[0m\u001b[1;33m\u001b[0m\u001b[0m\n\u001b[0;32m  36651\u001b[0m                         \u001b[0mret\u001b[0m \u001b[1;33m=\u001b[0m \u001b[0mDispatch\u001b[0m\u001b[1;33m(\u001b[0m\u001b[0mret\u001b[0m\u001b[1;33m,\u001b[0m \u001b[1;34m'__call__'\u001b[0m\u001b[1;33m,\u001b[0m \u001b[1;32mNone\u001b[0m\u001b[1;33m)\u001b[0m\u001b[1;33m\u001b[0m\u001b[1;33m\u001b[0m\u001b[0m\n",
      "\u001b[1;31mcom_error\u001b[0m: (-2147352567, '예외가 발생했습니다.', (0, None, None, None, 0, -2147352565), None)"
     ]
    }
   ],
   "source": [
    "import xlwings as xw\n",
    "\n",
    "# 비밀번호 설정\n",
    "password = 'B6Q62024!'\n",
    "\n",
    "# 엑셀 파일 경로\n",
    "excel_file_path = 'C:/Users/어센트코리아/Desktop/현황판/프라임키워드셋파일/MX_Prime Keywords Set_en_IN.xlsx'\n",
    "\n",
    "# 엑셀 앱 열기\n",
    "app = xw.App(visible=False)  # 엑셀 앱을 숨기려면 visible=False로 설정\n",
    "\n",
    "# 비밀번호가 설정된 엑셀 파일 열기\n",
    "wb = xw.Book(excel_file_path, password=password)\n",
    "\n",
    "try:\n",
    "    # 'prime-kw-set' 시트 선택\n",
    "    sheet = wb.sheets['prime-kws-set']\n",
    "    \n",
    "    # 시트 데이터 가져오기\n",
    "    data = sheet.used_range.value\n",
    "    \n",
    "    # 데이터 출력\n",
    "    print(data)\n",
    "    \n",
    "finally:\n",
    "    # 엑셀 앱과 워크북 닫기\n",
    "    wb.close()\n",
    "    app.quit()\n"
   ]
  }
 ],
 "metadata": {
  "kernelspec": {
   "display_name": "Python 3 (ipykernel)",
   "language": "python",
   "name": "python3"
  },
  "language_info": {
   "codemirror_mode": {
    "name": "ipython",
    "version": 3
   },
   "file_extension": ".py",
   "mimetype": "text/x-python",
   "name": "python",
   "nbconvert_exporter": "python",
   "pygments_lexer": "ipython3",
   "version": "3.12.3"
  }
 },
 "nbformat": 4,
 "nbformat_minor": 5
}
